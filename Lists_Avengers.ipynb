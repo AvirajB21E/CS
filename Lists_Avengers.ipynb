{
  "nbformat": 4,
  "nbformat_minor": 0,
  "metadata": {
    "colab": {
      "provenance": [],
      "authorship_tag": "ABX9TyNxE8ei4mYOGAtxW36EQZPA",
      "include_colab_link": true
    },
    "kernelspec": {
      "name": "python3",
      "display_name": "Python 3"
    },
    "language_info": {
      "name": "python"
    }
  },
  "cells": [
    {
      "cell_type": "markdown",
      "metadata": {
        "id": "view-in-github",
        "colab_type": "text"
      },
      "source": [
        "<a href=\"https://colab.research.google.com/github/AvirajB21E/CS10/blob/main/Lists_Avengers.ipynb\" target=\"_parent\"><img src=\"https://colab.research.google.com/assets/colab-badge.svg\" alt=\"Open In Colab\"/></a>"
      ]
    },
    {
      "cell_type": "markdown",
      "source": [
        "#CS 10\n",
        "### Lists\n"
      ],
      "metadata": {
        "id": "ci3V7cPGsskt"
      }
    },
    {
      "cell_type": "code",
      "execution_count": 1,
      "metadata": {
        "colab": {
          "base_uri": "https://localhost:8080/"
        },
        "id": "CUPeVPc7rO-Q",
        "outputId": "91db01f5-f0a2-42cc-ae13-ff3112cf26db"
      },
      "outputs": [
        {
          "output_type": "stream",
          "name": "stdout",
          "text": [
            "['Captain America', 'Thor', 'Black Widow', 'Hulk', 'Iron Man', 'Hawkeye', 'Spiderman']\n",
            "['Hank Pym', 'The Hulk', 'Iron Man', 'Thor', 'The Wasp']\n",
            "Black Widow and Hawkeye often felt insecure because neither really had a special power! They definitely didn't want to tick off Hulk but felt that Captain America was too focused leading the team to notice there was a problem there. Iron Man was often busy blowing his own trumpet and Thor really wasn’t of this earth either. They felt that Spiderman was probably very down to Earth but was still just a kid.\n",
            "['Thor', 'Hulk', 'Iron Man', 'Spiderman']\n",
            "['Captain America', 'Hulk', 'Iron Man', 'Spiderman']\n"
          ]
        }
      ],
      "source": [
        "avengers = [\"Captain America\", \"Thor\", \"Black Widow\", \"Hulk\", \"Iron Man\", \"Hawkeye\"]\n",
        "avengers.append(\"Spiderman\")\n",
        "print(avengers)\n",
        "avengers1963 = []\n",
        "avengers1963.append(\"Hank Pym\")\n",
        "avengers1963.append(\"The Hulk\")\n",
        "avengers1963.append(\"Iron Man\")\n",
        "avengers1963.append(\"Thor\")\n",
        "avengers1963.append(\"The Wasp\")\n",
        "print(avengers1963)\n",
        "print(f\"{avengers[2]} and {avengers[5]} often felt insecure because neither really had a special power! They definitely didn't want to tick off {avengers[3]} but felt that {avengers[0]} was too focused leading the team to notice there was a problem there. {avengers[4]} was often busy blowing his own trumpet and {avengers[1]} really wasn’t of this earth either. They felt that {avengers[6]} was probably very down to Earth but was still just a kid.\"\n",
        "\n",
        ")\n",
        "avengers.remove(\"Captain America\")\n",
        "avengers.remove(\"Black Widow\")\n",
        "avengers.remove(\"Hawkeye\")\n",
        "print(avengers)\n",
        "avengers[0] = \"Captain America\"\n",
        "print(avengers)\n"
      ]
    },
    {
      "cell_type": "markdown",
      "source": [
        "Lists are mutable which means they canbe changed after creation\n",
        "Lists\n",
        "\n"
      ],
      "metadata": {
        "id": "YJJEkIvXtOnf"
      }
    },
    {
      "cell_type": "code",
      "source": [
        "avengers2 = [\"luke Cage\", \"Captain America (Bucky Barnes)\", \"Amadeus Cho\", \"Iron Man Jocasta\", \"Mockingbird\" , \"Ms. Marvel (Carol Danvers)\", \"Quicksilver Hawkeye\" , \"Spider-Woman\", \"Spider-Man\" , \"Stature\", \"Thor\", \"Vision\", \"Ant-Man ( Henry Pym)\", \"Wolverine\"\n",
        "]\n",
        "print(f\"There are {len(avengers2)} avengers\")\n",
        "avengers2.sort()\n",
        "print(avengers2)"
      ],
      "metadata": {
        "colab": {
          "base_uri": "https://localhost:8080/"
        },
        "id": "kxv0WgbLw7e3",
        "outputId": "d51da272-b57e-4070-c57e-4db8be9f5116"
      },
      "execution_count": 16,
      "outputs": [
        {
          "output_type": "stream",
          "name": "stdout",
          "text": [
            "There are 14 avengers\n",
            "['Amadeus Cho', 'Ant-Man ( Henry Pym)', 'Captain America (Bucky Barnes)', 'Iron Man Jocasta', 'Mockingbird', 'Ms. Marvel (Carol Danvers)', 'Quicksilver Hawkeye', 'Spider-Man', 'Spider-Woman', 'Stature', 'Thor', 'Vision', 'Wolverine', 'luke Cage']\n"
          ]
        }
      ]
    },
    {
      "cell_type": "code",
      "source": [
        "from collections import Counter\n",
        "x = [1,2,3,4,5,5,6,7,78,1,3,3,4,5,6,6,67,7,8,8,8,9,9,1,1,2,2,3,4,5,6,7,8,6,5,4,3,1,2,3,45,56\n",
        "]\n",
        "counts = Counter(x)\n",
        "\n",
        "x.sort()\n",
        "y = x\n",
        "print(y)\n",
        "most_common = counts.most_common(1)[0][0]\n",
        "print(f\"Most common is {most_common}\")"
      ],
      "metadata": {
        "colab": {
          "base_uri": "https://localhost:8080/"
        },
        "id": "h35hJrGBy8bQ",
        "outputId": "f9d6b0b2-f30e-4edf-e6e8-6d5bb41af25e"
      },
      "execution_count": 22,
      "outputs": [
        {
          "output_type": "stream",
          "name": "stdout",
          "text": [
            "[1, 1, 1, 1, 1, 2, 2, 2, 2, 3, 3, 3, 3, 3, 3, 4, 4, 4, 4, 5, 5, 5, 5, 5, 6, 6, 6, 6, 6, 7, 7, 7, 8, 8, 8, 8, 9, 9, 45, 56, 67, 78]\n",
            "Most common is 3\n"
          ]
        }
      ]
    }
  ]
}