{
  "nbformat": 4,
  "nbformat_minor": 0,
  "metadata": {
    "colab": {
      "provenance": [],
      "authorship_tag": "ABX9TyNwn+FjOJkK3flyMGqSxJDd",
      "include_colab_link": true
    },
    "kernelspec": {
      "name": "python3",
      "display_name": "Python 3"
    },
    "language_info": {
      "name": "python"
    }
  },
  "cells": [
    {
      "cell_type": "markdown",
      "metadata": {
        "id": "view-in-github",
        "colab_type": "text"
      },
      "source": [
        "<a href=\"https://colab.research.google.com/github/AvirajB21E/CS10/blob/main/CS11_Iterating_over_Lists.ipynb\" target=\"_parent\"><img src=\"https://colab.research.google.com/assets/colab-badge.svg\" alt=\"Open In Colab\"/></a>"
      ]
    },
    {
      "cell_type": "markdown",
      "source": [
        "#Iterating Over Lists CS11"
      ],
      "metadata": {
        "id": "ne6RmdZJkBjs"
      }
    },
    {
      "cell_type": "code",
      "execution_count": 8,
      "metadata": {
        "colab": {
          "base_uri": "https://localhost:8080/"
        },
        "id": "Z124lHmTj7M-",
        "outputId": "5716a82e-1e49-42ef-8b46-549e627738ca"
      },
      "outputs": [
        {
          "output_type": "stream",
          "name": "stdout",
          "text": [
            "34\n",
            "4\n",
            "8\n",
            "29\n",
            "16\n"
          ]
        }
      ],
      "source": [
        "from random import shuffle\n",
        "lot_nums = []\n",
        "for x in range(1, 40):\n",
        "    lot_nums.append(x)\n",
        "shuffle(lot_nums)\n",
        "for i in range(0, 5):\n",
        "    print(lot_nums[i])"
      ]
    },
    {
      "cell_type": "code",
      "source": [
        "li = int(input(\"Enter Number for 10 timestable:\"))\n",
        "\n",
        "print(10 * li)"
      ],
      "metadata": {
        "colab": {
          "base_uri": "https://localhost:8080/"
        },
        "id": "rBXINvb9l4fM",
        "outputId": "136c74f3-9ea2-482d-e2f1-81627cd3850b"
      },
      "execution_count": 10,
      "outputs": [
        {
          "output_type": "stream",
          "name": "stdout",
          "text": [
            "Enter Number for 10 timestable:4\n",
            "40\n"
          ]
        }
      ]
    },
    {
      "cell_type": "code",
      "source": [
        "li = int(input(\"Enter Number for a timestable:\"))\n",
        "for i in range(1, 13):\n",
        " print(f\"{i} * {li} =  {i * li}\")\n"
      ],
      "metadata": {
        "colab": {
          "base_uri": "https://localhost:8080/"
        },
        "id": "HIr2bU-Vmxnj",
        "outputId": "d86e4075-3d39-4c2e-a6ef-0ecd27ecf0c3"
      },
      "execution_count": 19,
      "outputs": [
        {
          "output_type": "stream",
          "name": "stdout",
          "text": [
            "Enter Number for a timestable:5\n",
            "1 * 5 =  5\n",
            "2 * 5 =  10\n",
            "3 * 5 =  15\n",
            "4 * 5 =  20\n",
            "5 * 5 =  25\n",
            "6 * 5 =  30\n",
            "7 * 5 =  35\n",
            "8 * 5 =  40\n",
            "9 * 5 =  45\n",
            "10 * 5 =  50\n",
            "11 * 5 =  55\n",
            "12 * 5 =  60\n",
            "13 * 5 =  65\n",
            "14 * 5 =  70\n",
            "15 * 5 =  75\n",
            "16 * 5 =  80\n",
            "17 * 5 =  85\n",
            "18 * 5 =  90\n",
            "19 * 5 =  95\n",
            "20 * 5 =  100\n",
            "21 * 5 =  105\n",
            "22 * 5 =  110\n",
            "23 * 5 =  115\n",
            "24 * 5 =  120\n",
            "25 * 5 =  125\n",
            "26 * 5 =  130\n",
            "27 * 5 =  135\n",
            "28 * 5 =  140\n",
            "29 * 5 =  145\n",
            "30 * 5 =  150\n",
            "31 * 5 =  155\n",
            "32 * 5 =  160\n",
            "33 * 5 =  165\n",
            "34 * 5 =  170\n",
            "35 * 5 =  175\n",
            "36 * 5 =  180\n",
            "37 * 5 =  185\n",
            "38 * 5 =  190\n",
            "39 * 5 =  195\n",
            "40 * 5 =  200\n",
            "41 * 5 =  205\n",
            "42 * 5 =  210\n",
            "43 * 5 =  215\n",
            "44 * 5 =  220\n",
            "45 * 5 =  225\n",
            "46 * 5 =  230\n",
            "47 * 5 =  235\n",
            "48 * 5 =  240\n",
            "49 * 5 =  245\n",
            "50 * 5 =  250\n",
            "51 * 5 =  255\n",
            "52 * 5 =  260\n",
            "53 * 5 =  265\n",
            "54 * 5 =  270\n",
            "55 * 5 =  275\n",
            "56 * 5 =  280\n",
            "57 * 5 =  285\n",
            "58 * 5 =  290\n",
            "59 * 5 =  295\n",
            "60 * 5 =  300\n",
            "61 * 5 =  305\n",
            "62 * 5 =  310\n",
            "63 * 5 =  315\n",
            "64 * 5 =  320\n",
            "65 * 5 =  325\n",
            "66 * 5 =  330\n",
            "67 * 5 =  335\n",
            "68 * 5 =  340\n",
            "69 * 5 =  345\n",
            "70 * 5 =  350\n",
            "71 * 5 =  355\n",
            "72 * 5 =  360\n",
            "73 * 5 =  365\n",
            "74 * 5 =  370\n",
            "75 * 5 =  375\n",
            "76 * 5 =  380\n",
            "77 * 5 =  385\n",
            "78 * 5 =  390\n",
            "79 * 5 =  395\n",
            "80 * 5 =  400\n",
            "81 * 5 =  405\n",
            "82 * 5 =  410\n",
            "83 * 5 =  415\n",
            "84 * 5 =  420\n",
            "85 * 5 =  425\n",
            "86 * 5 =  430\n",
            "87 * 5 =  435\n",
            "88 * 5 =  440\n",
            "89 * 5 =  445\n",
            "90 * 5 =  450\n",
            "91 * 5 =  455\n",
            "92 * 5 =  460\n",
            "93 * 5 =  465\n",
            "94 * 5 =  470\n",
            "95 * 5 =  475\n",
            "96 * 5 =  480\n",
            "97 * 5 =  485\n",
            "98 * 5 =  490\n",
            "99 * 5 =  495\n",
            "100 * 5 =  500\n"
          ]
        }
      ]
    }
  ]
}