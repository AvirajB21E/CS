{
  "nbformat": 4,
  "nbformat_minor": 0,
  "metadata": {
    "colab": {
      "provenance": [],
      "authorship_tag": "ABX9TyN2l9Vel2iTg4sd0mSyrnYI",
      "include_colab_link": true
    },
    "kernelspec": {
      "name": "python3",
      "display_name": "Python 3"
    },
    "language_info": {
      "name": "python"
    }
  },
  "cells": [
    {
      "cell_type": "markdown",
      "metadata": {
        "id": "view-in-github",
        "colab_type": "text"
      },
      "source": [
        "<a href=\"https://colab.research.google.com/github/AvirajB21E/CS10/blob/main/Untitled0.ipynb\" target=\"_parent\"><img src=\"https://colab.research.google.com/assets/colab-badge.svg\" alt=\"Open In Colab\"/></a>"
      ]
    },
    {
      "cell_type": "markdown",
      "source": [
        "#CS 10\n",
        "### Lists\n"
      ],
      "metadata": {
        "id": "ci3V7cPGsskt"
      }
    },
    {
      "cell_type": "code",
      "execution_count": 1,
      "metadata": {
        "colab": {
          "base_uri": "https://localhost:8080/"
        },
        "id": "CUPeVPc7rO-Q",
        "outputId": "91db01f5-f0a2-42cc-ae13-ff3112cf26db"
      },
      "outputs": [
        {
          "output_type": "stream",
          "name": "stdout",
          "text": [
            "['Captain America', 'Thor', 'Black Widow', 'Hulk', 'Iron Man', 'Hawkeye', 'Spiderman']\n",
            "['Hank Pym', 'The Hulk', 'Iron Man', 'Thor', 'The Wasp']\n",
            "Black Widow and Hawkeye often felt insecure because neither really had a special power! They definitely didn't want to tick off Hulk but felt that Captain America was too focused leading the team to notice there was a problem there. Iron Man was often busy blowing his own trumpet and Thor really wasn’t of this earth either. They felt that Spiderman was probably very down to Earth but was still just a kid.\n",
            "['Thor', 'Hulk', 'Iron Man', 'Spiderman']\n",
            "['Captain America', 'Hulk', 'Iron Man', 'Spiderman']\n"
          ]
        }
      ],
      "source": [
        "avengers = [\"Captain America\", \"Thor\", \"Black Widow\", \"Hulk\", \"Iron Man\", \"Hawkeye\"]\n",
        "avengers.append(\"Spiderman\")\n",
        "print(avengers)\n",
        "avengers1963 = []\n",
        "avengers1963.append(\"Hank Pym\")\n",
        "avengers1963.append(\"The Hulk\")\n",
        "avengers1963.append(\"Iron Man\")\n",
        "avengers1963.append(\"Thor\")\n",
        "avengers1963.append(\"The Wasp\")\n",
        "print(avengers1963)\n",
        "print(f\"{avengers[2]} and {avengers[5]} often felt insecure because neither really had a special power! They definitely didn't want to tick off {avengers[3]} but felt that {avengers[0]} was too focused leading the team to notice there was a problem there. {avengers[4]} was often busy blowing his own trumpet and {avengers[1]} really wasn’t of this earth either. They felt that {avengers[6]} was probably very down to Earth but was still just a kid.\"\n",
        "\n",
        ")\n",
        "avengers.remove(\"Captain America\")\n",
        "avengers.remove(\"Black Widow\")\n",
        "avengers.remove(\"Hawkeye\")\n",
        "print(avengers)\n",
        "avengers[0] = \"Captain America\"\n",
        "print(avengers)\n",
        "\n"
      ]
    },
    {
      "cell_type": "markdown",
      "source": [
        "Lists are mutable which means they canbe changed after creation\n",
        "Lists\n",
        "\n"
      ],
      "metadata": {
        "id": "YJJEkIvXtOnf"
      }
    }
  ]
}